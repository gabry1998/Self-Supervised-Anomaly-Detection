{
 "cells": [
  {
   "cell_type": "code",
   "execution_count": null,
   "metadata": {},
   "outputs": [],
   "source": [
    "!tar -xf \"mvtec/bottle.tar.xz\" -C \"dataset\"\n",
    "!tar -xf \"mvtec/tile.tar.xz\" -C \"dataset\"\n",
    "!tar -xf \"mvtec/grid.tar.xz\" -C \"dataset\"\n",
    "!tar -xf \"mvtec/screw.tar.xz\" -C \"dataset\"\n",
    "!tar -xf \"mvtec/toothbrush.tar.xz\" -C \"dataset\""
   ]
  }
 ],
 "metadata": {
  "kernelspec": {
   "display_name": "Python 3.9.5 64-bit",
   "language": "python",
   "name": "python3"
  },
  "language_info": {
   "codemirror_mode": {
    "name": "ipython",
    "version": 3
   },
   "file_extension": ".py",
   "mimetype": "text/x-python",
   "name": "python",
   "nbconvert_exporter": "python",
   "pygments_lexer": "ipython3",
   "version": "3.9.5"
  },
  "orig_nbformat": 4,
  "vscode": {
   "interpreter": {
    "hash": "133d3c84286f79a11b2033d04d3aa9483a855a7bc98ab5ebe5d33354226dae07"
   }
  }
 },
 "nbformat": 4,
 "nbformat_minor": 2
}
