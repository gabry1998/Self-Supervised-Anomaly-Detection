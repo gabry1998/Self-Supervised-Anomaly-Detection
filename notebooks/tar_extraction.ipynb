{
 "cells": [
  {
   "cell_type": "code",
   "execution_count": null,
   "metadata": {},
   "outputs": [],
   "source": [
    "!tar -xf \"mvtec/bottle.tar.xz\" -C \"dataset\"\n",
    "!tar -xf \"mvtec/tile.tar.xz\" -C \"dataset\"\n",
    "!tar -xf \"mvtec/grid.tar.xz\" -C \"dataset\"\n",
    "!tar -xf \"mvtec/screw.tar.xz\" -C \"dataset\"\n",
    "!tar -xf \"mvtec/toothbrush.tar.xz\" -C \"dataset\"\n",
    "!tar -xf \"../mvtec/cable.tar.xz\" -C \"../dataset/\"\n",
    "!tar -xf \"../mvtec/zipper.tar.xz\" -C \"../dataset/\"\n",
    "!tar -xf \"../mvtec/metal_nut.tar.xz\" -C \"../dataset/\""
   ]
  },
  {
   "cell_type": "code",
   "execution_count": 1,
   "metadata": {},
   "outputs": [],
   "source": [
    "!tar -xf \"../mvtec/metal_nut.tar.xz\" -C \"../dataset/\""
   ]
  }
 ],
 "metadata": {
  "kernelspec": {
   "display_name": "Python 3.8.10 64-bit",
   "language": "python",
   "name": "python3"
  },
  "language_info": {
   "codemirror_mode": {
    "name": "ipython",
    "version": 3
   },
   "file_extension": ".py",
   "mimetype": "text/x-python",
   "name": "python",
   "nbconvert_exporter": "python",
   "pygments_lexer": "ipython3",
   "version": "3.8.10"
  },
  "orig_nbformat": 4,
  "vscode": {
   "interpreter": {
    "hash": "916dbcbb3f70747c44a77c7bcd40155683ae19c65e1c03b4aa3499c5328201f1"
   }
  }
 },
 "nbformat": 4,
 "nbformat_minor": 2
}
