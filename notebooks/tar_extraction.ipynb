{
 "cells": [
  {
   "cell_type": "code",
   "execution_count": null,
   "metadata": {},
   "outputs": [],
   "source": [
    "!tar -xf \"/home/ubuntu/TesiAnomalyDetection/mvtec/bottle.tar.xz\" -C \"/home/ubuntu/TesiAnomalyDetection/dataset\"\n",
    "!tar -xf \"/home/ubuntu/TesiAnomalyDetection/mvtec/tile.tar.xz\" -C \"/home/ubuntu/TesiAnomalyDetection/dataset\"\n",
    "!tar -xf \"/home/ubuntu/TesiAnomalyDetection/mvtec/grid.tar.xz\" -C \"/home/ubuntu/TesiAnomalyDetection/dataset\"\n",
    "!tar -xf \"/home/ubuntu/TesiAnomalyDetection/mvtec/screw.tar.xz\" -C \"/home/ubuntu/TesiAnomalyDetection/dataset\"\n",
    "!tar -xf \"/home/ubuntu/TesiAnomalyDetection/mvtec/toothbrush.tar.xz\" -C \"/home/ubuntu/TesiAnomalyDetection/dataset\""
   ]
  }
 ],
 "metadata": {
  "kernelspec": {
   "display_name": "Python 3.8.10 ('venv': venv)",
   "language": "python",
   "name": "python3"
  },
  "language_info": {
   "codemirror_mode": {
    "name": "ipython",
    "version": 3
   },
   "file_extension": ".py",
   "mimetype": "text/x-python",
   "name": "python",
   "nbconvert_exporter": "python",
   "pygments_lexer": "ipython3",
   "version": "3.8.10"
  },
  "orig_nbformat": 4,
  "vscode": {
   "interpreter": {
    "hash": "7ad05525b964f9a3219eb93b0946337e1e9a632ab3f307ade25b62443cfe7aec"
   }
  }
 },
 "nbformat": 4,
 "nbformat_minor": 2
}
