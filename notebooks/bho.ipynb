{
 "cells": [
  {
   "cell_type": "code",
   "execution_count": 6,
   "metadata": {},
   "outputs": [
    {
     "name": "stdout",
     "output_type": "stream",
     "text": [
      "(1024, 1024)\n",
      "(256, 256, 3)\n"
     ]
    }
   ],
   "source": [
    "from PIL import Image\n",
    "import torch\n",
    "from torchvision import transforms\n",
    "import numpy as np\n",
    "\n",
    "x = Image.open('/home/ubuntu/workspace/dataset/grid/train/good/000.png')\n",
    "print(np.array(x).shape)\n",
    "x = x.resize((256,256))\n",
    "x = x.convert('RGB')\n",
    "print(np.array(x).shape)"
   ]
  },
  {
   "cell_type": "code",
   "execution_count": null,
   "metadata": {},
   "outputs": [],
   "source": [
    "import torch\n",
    "from pretext_task_dataset import PretextTaskDatamodule, AnomalyDetectionDatamodule\n",
    "from pretext_task_model import ClassificationTask, MetricTracker\n",
    "import pytorch_lightning as pl\n",
    "from torchsummary  import summary\n",
    "from functions.visualizations import *\n",
    "from functions.support_functions import report"
   ]
  },
  {
   "cell_type": "code",
   "execution_count": null,
   "metadata": {},
   "outputs": [],
   "source": [
    "dataset_dir = '/home/ubuntu/workspace/dataset/'\n",
    "results_dir = '/home/ubuntu/workspace/outputs/computations/'\n",
    "subject='bottle'\n",
    "\n",
    "main_path = dataset_dir+subject+'/train/good/'\n",
    "result_path = results_dir+subject+'/'\n",
    "\n",
    "imsize = (256,256)\n",
    "augmentation_offset = 0.1\n",
    "area_ratio_patch = (0.02, 0.15)\n",
    "aspect_ratio_patch = ((0.3, 1),(1, 3.3))\n",
    "scar_width=(4,16)\n",
    "scar_thiccness=(10,25)\n",
    "\n",
    "batch_size_train = 64\n",
    "batch_size_test = 8\n",
    "train_test_split_val = 0.2\n",
    "train_val_split_val = 0.2\n",
    "\n",
    "seed = 0\n",
    "lr = 0.003\n",
    "epochs = 30 \n",
    "mode='3-way'\n",
    "\n",
    "\n",
    "datamodule = PretextTaskDatamodule(main_path, \n",
    "                                imsize=imsize, \n",
    "                                seed=seed,\n",
    "                                batch_size=batch_size_train,\n",
    "                                train_test_split=train_test_split_val,\n",
    "                                train_val_split=train_val_split_val,\n",
    "                                area_ratio_patch=area_ratio_patch,\n",
    "                                aspect_ratio_patch=aspect_ratio_patch,\n",
    "                                scar_width=scar_width,\n",
    "                                scar_thiccness=scar_thiccness,\n",
    "                                augmentation_offset=augmentation_offset,\n",
    "                                mode=mode\n",
    ")\n",
    "datamodule.prepare_data()\n",
    "print(datamodule.train_dataset.images.shape)\n",
    "print(datamodule.val_dataset.images.shape)\n",
    "print(datamodule.test_dataset.images.shape)"
   ]
  }
 ],
 "metadata": {
  "kernelspec": {
   "display_name": "Python 3.8.10 ('venv': venv)",
   "language": "python",
   "name": "python3"
  },
  "language_info": {
   "codemirror_mode": {
    "name": "ipython",
    "version": 3
   },
   "file_extension": ".py",
   "mimetype": "text/x-python",
   "name": "python",
   "nbconvert_exporter": "python",
   "pygments_lexer": "ipython3",
   "version": "3.8.10"
  },
  "orig_nbformat": 4,
  "vscode": {
   "interpreter": {
    "hash": "7ad05525b964f9a3219eb93b0946337e1e9a632ab3f307ade25b62443cfe7aec"
   }
  }
 },
 "nbformat": 4,
 "nbformat_minor": 2
}
